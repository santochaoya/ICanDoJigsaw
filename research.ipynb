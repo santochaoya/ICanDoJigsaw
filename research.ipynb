{
 "cells": [
  {
   "cell_type": "code",
   "execution_count": 7,
   "metadata": {},
   "outputs": [],
   "source": [
    "import numpy as np\n",
    "import matplotlib.pyplot as plt\n",
    "import os\n",
    "\n",
    "import cv2\n",
    "import imutils\n",
    "import imutils.perspective as persp # order the contour coordinates i.e. left, top, right, buttom\n",
    "import scipy.spatial.distance as dist"
   ]
  },
  {
   "cell_type": "code",
   "execution_count": 14,
   "metadata": {},
   "outputs": [
    {
     "name": "stdout",
     "output_type": "stream",
     "text": [
      "[[[127 164 186]\n",
      "  [126 163 185]\n",
      "  [126 163 185]\n",
      "  ...\n",
      "  [121 157 175]\n",
      "  [116 152 170]\n",
      "  [112 148 166]]\n",
      "\n",
      " [[127 164 186]\n",
      "  [127 164 186]\n",
      "  [126 163 185]\n",
      "  ...\n",
      "  [121 157 175]\n",
      "  [116 152 170]\n",
      "  [110 146 164]]\n",
      "\n",
      " [[127 164 186]\n",
      "  [127 164 186]\n",
      "  [127 164 186]\n",
      "  ...\n",
      "  [119 155 173]\n",
      "  [114 150 168]\n",
      "  [109 145 163]]\n",
      "\n",
      " ...\n",
      "\n",
      " [[ 96 124 148]\n",
      "  [ 93 124 147]\n",
      "  [ 94 122 146]\n",
      "  ...\n",
      "  [ 53  83 100]\n",
      "  [ 52  82  99]\n",
      "  [ 51  81  98]]\n",
      "\n",
      " [[ 93 120 141]\n",
      "  [ 90 119 140]\n",
      "  [ 91 118 139]\n",
      "  ...\n",
      "  [ 51  80  95]\n",
      "  [ 51  80  95]\n",
      "  [ 50  79  94]]\n",
      "\n",
      " [[ 90 117 138]\n",
      "  [ 89 116 137]\n",
      "  [ 88 115 136]\n",
      "  ...\n",
      "  [ 48  77  92]\n",
      "  [ 49  78  93]\n",
      "  [ 49  78  93]]]\n"
     ]
    }
   ],
   "source": [
    "# load images\n",
    "img_dir = r'data/'\n",
    "img = cv2.imread(os.path.join(img_dir, '1.jpeg')) # read in B G R order\n",
    "\n",
    "# convert to R G B\n",
    "rgb_img = cv2.cvtColor(img, cv2.COLOR_BAYER_BG2RGB)\n",
    "\n",
    "# # show the image\n",
    "# plt.figure(figsize=(15, 15))\n",
    "# plt.show(rgb_img)\n"
   ]
  },
  {
   "cell_type": "code",
   "execution_count": null,
   "metadata": {},
   "outputs": [],
   "source": []
  },
  {
   "cell_type": "code",
   "execution_count": null,
   "metadata": {},
   "outputs": [],
   "source": []
  },
  {
   "cell_type": "code",
   "execution_count": null,
   "metadata": {},
   "outputs": [],
   "source": []
  },
  {
   "cell_type": "code",
   "execution_count": null,
   "metadata": {},
   "outputs": [],
   "source": []
  },
  {
   "cell_type": "code",
   "execution_count": null,
   "metadata": {},
   "outputs": [],
   "source": []
  },
  {
   "cell_type": "code",
   "execution_count": null,
   "metadata": {},
   "outputs": [],
   "source": []
  }
 ],
 "metadata": {
  "kernelspec": {
   "display_name": "Python 3.9.10 ('base')",
   "language": "python",
   "name": "python3"
  },
  "language_info": {
   "codemirror_mode": {
    "name": "ipython",
    "version": 3
   },
   "file_extension": ".py",
   "mimetype": "text/x-python",
   "name": "python",
   "nbconvert_exporter": "python",
   "pygments_lexer": "ipython3",
   "version": "3.9.10"
  },
  "orig_nbformat": 4,
  "vscode": {
   "interpreter": {
    "hash": "07d59c2e07cffdbb0e861da712a06c3be4298400c4d7d564ce0a05edec008f1b"
   }
  }
 },
 "nbformat": 4,
 "nbformat_minor": 2
}
